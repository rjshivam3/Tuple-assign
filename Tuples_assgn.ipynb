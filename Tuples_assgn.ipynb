{
 "cells": [
  {
   "cell_type": "markdown",
   "id": "e6584e00-561b-4671-9a2a-3d80a1867fd2",
   "metadata": {},
   "source": [
    "Q.1 \n",
    "\n",
    "> Tuples are enclosed with the paranthesis i.e. \"()\" and not with the square braces i.e. \"[]\". Tuples are defined in the same way as we define the lists. Elements of tuples is having defined order because they are immutable. "
   ]
  },
  {
   "cell_type": "markdown",
   "id": "1a2526f0-1a5f-4244-9aaf-51796ec2e082",
   "metadata": {},
   "source": [
    "Q.2 \n",
    "\n",
    "> Tuples have only two in-built methods, count and index, because tuples are immutable, meaning their elements can't be changed after they are created. Since tuples can't be changed, they don't need the same types of methods that lists do, such as insert, append, and remove, which are used to modify the contents of a list.\n",
    "\n",
    "\n",
    "\n",
    "\n",
    "\n"
   ]
  },
  {
   "cell_type": "code",
   "execution_count": 6,
   "id": "67747aac-574f-440e-a749-735984309970",
   "metadata": {},
   "outputs": [],
   "source": [
    "'''Q.2 Example'''\n",
    "\n",
    "t1= (1,2,3,4,1,1)"
   ]
  },
  {
   "cell_type": "code",
   "execution_count": 7,
   "id": "45e529d7-2efd-42dd-80c7-062c0fc34890",
   "metadata": {},
   "outputs": [
    {
     "data": {
      "text/plain": [
       "3"
      ]
     },
     "execution_count": 7,
     "metadata": {},
     "output_type": "execute_result"
    }
   ],
   "source": [
    "t1.count(1)"
   ]
  },
  {
   "cell_type": "code",
   "execution_count": 11,
   "id": "11f35c87-82b5-4a0b-b6fe-b57d8511efc5",
   "metadata": {},
   "outputs": [
    {
     "data": {
      "text/plain": [
       "3"
      ]
     },
     "execution_count": 11,
     "metadata": {},
     "output_type": "execute_result"
    }
   ],
   "source": [
    "t1.index(4)"
   ]
  },
  {
   "cell_type": "markdown",
   "id": "40ed5068-90f4-4b06-a6b2-8970a0e01cd6",
   "metadata": {},
   "source": [
    "Q.3.\n",
    "\n",
    "> In Python, the set does not allow duplicate items. sets can use to remove duplicates from a list by converting the list into a set and then back into a list"
   ]
  },
  {
   "cell_type": "code",
   "execution_count": 19,
   "id": "23526e40-b245-4e24-a25b-450684888a31",
   "metadata": {},
   "outputs": [
    {
     "name": "stdout",
     "output_type": "stream",
     "text": [
      "[1, 2, 3, 4]\n"
     ]
    }
   ],
   "source": [
    "List = [1, 1, 1, 2, 1, 3, 1, 4, 2, 1, 2, 2, 2, 3, 2, 4, 3, 1, 3, 2, 3, 3, 3, 4, 4, 1, 4, 2, 4, 3, 4, 4]\n",
    "\n",
    "Set_1 = list(set(List))\n",
    "\n",
    "print(Set_1)\n"
   ]
  },
  {
   "cell_type": "markdown",
   "id": "718d2103-67d3-4382-87c0-ad69c15afabd",
   "metadata": {},
   "source": [
    "Q.4\n",
    "\n",
    "> The difference between the two methods is that union() returns a new set, while update() modifies the original set."
   ]
  },
  {
   "cell_type": "code",
   "execution_count": null,
   "id": "e2cd55d3-e69b-4461-8868-d50118a17df1",
   "metadata": {},
   "outputs": [],
   "source": [
    "'''Q.4 Example'''\n",
    "\n"
   ]
  },
  {
   "cell_type": "code",
   "execution_count": 22,
   "id": "eb9172b2-7260-4af2-8d5b-15685864da5b",
   "metadata": {},
   "outputs": [],
   "source": [
    "set1 = {1, 2, 3}\n",
    "set2 = {3, 4, 5}\n",
    "set3 = set1.union(set2)"
   ]
  },
  {
   "cell_type": "code",
   "execution_count": 23,
   "id": "cb3a4d75-d485-4ae3-8994-70e6e26791bf",
   "metadata": {},
   "outputs": [
    {
     "data": {
      "text/plain": [
       "{1, 2, 3, 4, 5}"
      ]
     },
     "execution_count": 23,
     "metadata": {},
     "output_type": "execute_result"
    }
   ],
   "source": [
    "set3"
   ]
  },
  {
   "cell_type": "code",
   "execution_count": 24,
   "id": "66092e65-b10c-45bc-bf1e-95547ac9f3ac",
   "metadata": {},
   "outputs": [],
   "source": [
    "set1 = {1, 2, 3}\n",
    "set2 = {3, 4, 5}\n",
    "set1.update(set2)\n"
   ]
  },
  {
   "cell_type": "code",
   "execution_count": 25,
   "id": "50707e0a-982e-4789-a266-eb2b24b50f1f",
   "metadata": {},
   "outputs": [
    {
     "data": {
      "text/plain": [
       "{1, 2, 3, 4, 5}"
      ]
     },
     "execution_count": 25,
     "metadata": {},
     "output_type": "execute_result"
    }
   ],
   "source": [
    "set1"
   ]
  },
  {
   "cell_type": "markdown",
   "id": "db2d43fa-11a4-400b-bdc1-bd1dd3fd255e",
   "metadata": {},
   "source": [
    "Q.5\n",
    "\n",
    "> In programming, dictionaries are commonly implemented as hash tables, which are optimized for fast lookups and efficient searching. A dictionary is a collection of key-value pairs, where each key is unique and maps to a specific value."
   ]
  },
  {
   "cell_type": "code",
   "execution_count": null,
   "id": "761c8c9f-ebf5-4c09-be87-ce07182cdeed",
   "metadata": {},
   "outputs": [],
   "source": [
    "'''Q.5 Example'''"
   ]
  },
  {
   "cell_type": "code",
   "execution_count": 26,
   "id": "3b86e4b6-d034-41d3-a822-b603ddbd8fd1",
   "metadata": {},
   "outputs": [
    {
     "data": {
      "text/plain": [
       "{'Maharashtra': 'Mumbai',\n",
       " 'Uttar pradesh': 'Varanasi',\n",
       " 'Madhyapradesh': 'Gwalior'}"
      ]
     },
     "execution_count": 26,
     "metadata": {},
     "output_type": "execute_result"
    }
   ],
   "source": [
    "{\n",
    "  \"Maharashtra\": \"Mumbai\",\n",
    "  \"Uttar pradesh\": \"Varanasi\",\n",
    "  \"Madhyapradesh\": \"Gwalior\",\n",
    "}\n"
   ]
  },
  {
   "cell_type": "markdown",
   "id": "daa1997e-85c5-48c5-9aca-1f33ca6b2e63",
   "metadata": {},
   "source": [
    "Q.6 \n",
    "> Yes, we can create nested dictionaries in Python. A nested dictionary is simply a dictionary that contains another dictionary as one of its values.\n"
   ]
  },
  {
   "cell_type": "code",
   "execution_count": null,
   "id": "e8b1c907-15a0-4487-98ff-90eef791cb80",
   "metadata": {},
   "outputs": [],
   "source": [
    "'''Q.6 Example'''"
   ]
  },
  {
   "cell_type": "code",
   "execution_count": 27,
   "id": "d119ddd9-d7d9-4f4e-b97a-e02d919762c9",
   "metadata": {},
   "outputs": [],
   "source": [
    "person = {\n",
    "    \"name\": \"Shivam Rajbhar\",\n",
    "    \"age\": 21,\n",
    "    \"address\": {\n",
    "        \"city\": \"Mumbai\",\n",
    "        \"state\": \"Maharashtra\",\n",
    "        \"Pincode\": \"400097\"\n",
    "    }\n",
    "}\n"
   ]
  },
  {
   "cell_type": "markdown",
   "id": "abeb2f21-7696-4e58-8817-34742c7521ca",
   "metadata": {},
   "source": [
    "print(person[\"address\"][\"city\"])"
   ]
  },
  {
   "cell_type": "code",
   "execution_count": 38,
   "id": "9c475c4b-c93f-4191-8027-660bd4004ab6",
   "metadata": {},
   "outputs": [],
   "source": [
    "# QUESTION 7\n",
    "\n",
    "dict1 = {'language' : 'Python', 'course': 'Data Science Masters'}\n",
    "dict1.setdefault('topics', []).extend(['Python', 'Machine Learning', 'Deep Learning'])\n",
    "\n",
    "\n",
    "\n"
   ]
  },
  {
   "cell_type": "code",
   "execution_count": 39,
   "id": "d2d13f9c-0a21-4714-8959-47abc516686e",
   "metadata": {},
   "outputs": [
    {
     "name": "stdout",
     "output_type": "stream",
     "text": [
      "{'language': 'Python', 'course': 'Data Science Masters', 'topics': ['Python', 'Machine Learning', 'Deep Learning']}\n"
     ]
    }
   ],
   "source": [
    "print(dict1)\n"
   ]
  },
  {
   "cell_type": "markdown",
   "id": "5f9ca5bc-928a-46e0-ad43-4573a9dc0021",
   "metadata": {},
   "source": [
    "Q.8\n",
    "\n",
    "> The three view objects in dictionaries are: keys(), values(), and items()."
   ]
  },
  {
   "cell_type": "code",
   "execution_count": 40,
   "id": "3fa45cc3-f1c8-4b03-b267-fc55248514d6",
   "metadata": {},
   "outputs": [],
   "source": [
    "# QUESTION 8 Example\n",
    "\n",
    "dict1 = {'Sport': 'Cricket' , 'Teams': ['India', 'Australia', 'England', 'South Africa', 'Sri Lanka', 'New Zealand']}\n",
    "\n",
    "\n",
    "\n"
   ]
  },
  {
   "cell_type": "code",
   "execution_count": 42,
   "id": "12d5d516-eece-4039-b69d-ee70af2b1d5e",
   "metadata": {},
   "outputs": [
    {
     "name": "stdout",
     "output_type": "stream",
     "text": [
      "keys view object:  dict_keys(['Sport', 'Teams'])\n",
      "values view object:  dict_values(['Cricket', ['India', 'Australia', 'England', 'South Africa', 'Sri Lanka', 'New Zealand']])\n",
      "items view object:  dict_items([('Sport', 'Cricket'), ('Teams', ['India', 'Australia', 'England', 'South Africa', 'Sri Lanka', 'New Zealand'])])\n"
     ]
    }
   ],
   "source": [
    "print(\"keys view object: \", dict1.keys())\n",
    "print(\"values view object: \", dict1.values())\n",
    "print(\"items view object: \", dict1.items())"
   ]
  },
  {
   "cell_type": "markdown",
   "id": "cf01ac05-c6ad-47c7-af12-5322e0d4099f",
   "metadata": {},
   "source": [
    "Assignment completed"
   ]
  },
  {
   "cell_type": "code",
   "execution_count": null,
   "id": "4e14296f-d9c2-467b-98e9-89c7da450486",
   "metadata": {},
   "outputs": [],
   "source": []
  }
 ],
 "metadata": {
  "kernelspec": {
   "display_name": "Python 3 (ipykernel)",
   "language": "python",
   "name": "python3"
  },
  "language_info": {
   "codemirror_mode": {
    "name": "ipython",
    "version": 3
   },
   "file_extension": ".py",
   "mimetype": "text/x-python",
   "name": "python",
   "nbconvert_exporter": "python",
   "pygments_lexer": "ipython3",
   "version": "3.10.8"
  }
 },
 "nbformat": 4,
 "nbformat_minor": 5
}
